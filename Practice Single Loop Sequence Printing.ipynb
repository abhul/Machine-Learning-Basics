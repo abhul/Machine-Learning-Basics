{
 "cells": [
  {
   "cell_type": "markdown",
   "metadata": {},
   "source": [
    "# Practice : Single Loop based patterns using for or while loop."
   ]
  },
  {
   "cell_type": "code",
   "execution_count": 12,
   "metadata": {},
   "outputs": [],
   "source": [
    "# print : from 1 to 10."
   ]
  },
  {
   "cell_type": "code",
   "execution_count": 13,
   "metadata": {},
   "outputs": [
    {
     "name": "stdout",
     "output_type": "stream",
     "text": [
      "1 2 3 4 5 6 7 8 9 10 "
     ]
    }
   ],
   "source": [
    "for x in range(1,11):\n",
    "    print(x , end = ' ')"
   ]
  },
  {
   "cell_type": "code",
   "execution_count": 14,
   "metadata": {},
   "outputs": [
    {
     "name": "stdout",
     "output_type": "stream",
     "text": [
      "2 4 6 8 10 12 14 16 18 20 "
     ]
    }
   ],
   "source": [
    "# print : 2, 4, 6, 8 ...20.\n",
    "# trick1: always use this x as counter only.\n",
    "# trick2 : use one variable to represent one logic, so multiple logic , we can use multiple variables.\n",
    "# what is the logic represents here : it means find the reasoning of the problem, \n",
    "#what is the next element of the problem.\n",
    "\n",
    "a=2\n",
    "for x in range(1,11):\n",
    "    print(a, end=' ')\n",
    "    a=a+2"
   ]
  },
  {
   "cell_type": "code",
   "execution_count": 15,
   "metadata": {},
   "outputs": [
    {
     "name": "stdout",
     "output_type": "stream",
     "text": [
      "1 8 27 64 125 216 343 512 729 1000 "
     ]
    }
   ],
   "source": [
    "# print : 1^3, 2^3 ....10^3\n",
    "# since it represents only one logic.\n",
    "a=1\n",
    "for x in range(1,11):\n",
    "    print(a*a*a , end = ' ')\n",
    "    a=a+1"
   ]
  },
  {
   "cell_type": "code",
   "execution_count": 16,
   "metadata": {},
   "outputs": [
    {
     "name": "stdout",
     "output_type": "stream",
     "text": [
      "1 4 27 256 3125 46656 823543 16777216 387420489 10000000000 "
     ]
    }
   ],
   "source": [
    "import math\n",
    "# # print : 1^1, 2^2 ....10^10\n",
    "# since it represents two logic.\n",
    "a=1\n",
    "power=1\n",
    "for x in range(1,11):\n",
    "    print(int(math.pow(a,power)) , end = ' ')\n",
    "    a=a+1\n",
    "    power=power +1"
   ]
  },
  {
   "cell_type": "code",
   "execution_count": null,
   "metadata": {},
   "outputs": [],
   "source": []
  },
  {
   "cell_type": "code",
   "execution_count": null,
   "metadata": {},
   "outputs": [],
   "source": []
  },
  {
   "cell_type": "code",
   "execution_count": null,
   "metadata": {},
   "outputs": [],
   "source": []
  },
  {
   "cell_type": "code",
   "execution_count": null,
   "metadata": {},
   "outputs": [],
   "source": []
  }
 ],
 "metadata": {
  "kernelspec": {
   "display_name": "Python 3",
   "language": "python",
   "name": "python3"
  },
  "language_info": {
   "codemirror_mode": {
    "name": "ipython",
    "version": 3
   },
   "file_extension": ".py",
   "mimetype": "text/x-python",
   "name": "python",
   "nbconvert_exporter": "python",
   "pygments_lexer": "ipython3",
   "version": "3.8.3"
  }
 },
 "nbformat": 4,
 "nbformat_minor": 4
}
